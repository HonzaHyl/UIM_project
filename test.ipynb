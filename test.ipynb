{
 "cells": [
  {
   "cell_type": "markdown",
   "metadata": {},
   "source": [
    "# Testing functions"
   ]
  },
  {
   "cell_type": "markdown",
   "metadata": {},
   "source": [
    "\n",
    "<h2>Vitální charakteristiky</h2>\n",
    "    <ul>\n",
    "        <li>HR - Tepová frekvence (bpm)</li>\n",
    "        <li>O2Sat - Saturace O2 (%)</li>\n",
    "        <li>Temp - Teplota těla (° C)</li>\n",
    "        <li>SBP - Systolický tlak (mmHg)</li>\n",
    "        <li>MAP - Střední arteriální tlak (mmHg)</li>\n",
    "        <li>DBP - Diastolický tlak (mmHg)</li>\n",
    "        <li>Resp - Dechová frekvence (počet dechů za minutu)</li>\n",
    "        <li>EtCO2 - Obsah CO2 ve vzduchu na konci výdechu (end-tidal CO2) (mmHg)</li>\n",
    "    </ul>\n",
    "\n",
    "<h2>Laboratorní vyšetření</h2>\n",
    "    <ul>\n",
    "        <li>BaseExcess - Measure of excess bicarbonate (mmol/L)</li>\n",
    "        <li>HCO3 - Bikarbonáty (mmol/L)</li>\n",
    "        <li>FiO2 - koncentrace O2 ve vdechovaném vzduchu (%)</li>\n",
    "        <li>PaCO2 - Parciální tlak CO2 v arteriální krvi (mmHg)</li>\n",
    "        <li>SaO2 - Saturace O2 v arteriální krvi (%)</li>\n",
    "        <li>AST - Aspartátaminotransferáza (IU/L)</li>\n",
    "        <li>BUN - Močovinový dusík v krvi (mg/dL)</li>\n",
    "        <li>Alkalinephos - Alkalická fosfatáza (IU/L)</li>\n",
    "        <li>Calcium - Vápník (mg/dL)</li>\n",
    "        <li>Chloride - Chloridy (mmol/L)</li>\n",
    "        <li>Creatinine - Kreatinin (mg/dL)</li>\n",
    "        <li>Bilirubin_direct - Bilirubin přímý (mg/dL)</li>\n",
    "        <li>Glucose - Glykemie (mg/dL)</li>\n",
    "        <li>Lactate - Laktát (mg/dL)</li>\n",
    "        <li>Magnesium - Hořčík (mmol/dL)</li>\n",
    "        <li>Phosphate - Fosfát (mg/dL)</li>\n",
    "        <li>Potassium - Draslík (mmol/L)</li>\n",
    "        <li>Bilirubin_total - Bilirubin celkový (mg/dL)</li>\n",
    "        <li>TroponinI - Troponin I (ng/mL)</li>\n",
    "        <li>Hct - Hematokrit (%)</li>\n",
    "        <li>Hgb - Hemoglobin (g/dL)</li>\n",
    "        <li>PTT - Aktivovaný parciální tromboplastinový čas (s)</li>\n",
    "        <li>WBC - Leukocyty (*10^3/µL)</li>\n",
    "        <li>Fibrinogen - Fibrinogen (mg/dL)</li>\n",
    "        <li>Platelets - Trombocyty (count*10^3/µL)</li>\n",
    "    </ul>\n",
    "\n",
    "<h2>Demografické charakteristiky</h2>\n",
    "    <ul>\n",
    "        <li>Age - Věk</li>\n",
    "        <li>Gender Pohlaví: žena (0) or muž (1)</li>\n",
    "        <li>Unit1 ID JIP (MICU)</li>\n",
    "        <li>Unit2 ID JIP (SICU)</li>\n",
    "        <li>HospAdmTime - Počet hodin mezi hospitalizaci a umístěním na JIP</li>\n",
    "        <li>ICULOS - Doba strávená na JIP (hod)</li>\n",
    "        <li>Stav pacienta isSepsis 0 – neseptický, 1 – septický (odhadovaná veličina)</li>\n",
    "    </ul>\n",
    "\n"
   ]
  },
  {
   "cell_type": "code",
   "execution_count": 175,
   "metadata": {},
   "outputs": [],
   "source": [
    "import pandas as pd\n",
    "import numpy as np"
   ]
  },
  {
   "cell_type": "code",
   "execution_count": 80,
   "metadata": {},
   "outputs": [],
   "source": [
    "# For displaying all rows and columns in a specific Jupyter Notebook cell\n",
    "pd.set_option('display.max_rows', None)\n",
    "pd.set_option('display.max_columns', None)"
   ]
  },
  {
   "cell_type": "code",
   "execution_count": 82,
   "metadata": {},
   "outputs": [],
   "source": [
    "# Reset display options to default values\n",
    "pd.reset_option('display.max_rows')\n",
    "pd.reset_option('display.max_columns')"
   ]
  },
  {
   "cell_type": "code",
   "execution_count": 102,
   "metadata": {},
   "outputs": [],
   "source": [
    "def replaceOutliers(table):\n",
    "    # odstraňování odlehlých hodnot\n",
    "    for column in table.columns:\n",
    "        # Výpočet mediánu pro daný sloupec\n",
    "        median_value = table[column].median()\n",
    "\n",
    "        # Počet směrodatných odchylek od mediánu\n",
    "        num_std_dev = 3\n",
    "\n",
    "        # Výpočet spodní a vrchní hranice s použitím násobku směrodatné odchylky a mediánu\n",
    "        lower_bound = median_value - num_std_dev * table[column].std()\n",
    "        upper_bound = median_value + num_std_dev * table[column].std()\n",
    "\n",
    "        # Nahrazení odlehlých hodnot hodnotami NaN\n",
    "        table.loc[table[column]<lower_bound, column] = np.nan\n",
    "        table.loc[table[column]>upper_bound, column] = np.nan\n",
    "\n",
    "    return table\n"
   ]
  },
  {
   "cell_type": "code",
   "execution_count": 101,
   "metadata": {},
   "outputs": [],
   "source": [
    "def dropIrrelevantColumns(table):\n",
    "    # Odstranění sloupců, které mají počet NaN hodnot větší, než 25 % celkového počtu řádků\n",
    "\n",
    "    dropList = [] # list sloupců, které mají více jak 20000 NaN hodnot\n",
    "\n",
    "    for column in table.columns:\n",
    "        if table[column].isnull().sum() > (table.shape[0]*0.25):\n",
    "            dropList.append(column)\n",
    "\n",
    "    filteredTable = table.drop(columns=dropList)  \n",
    "\n",
    "    return filteredTable"
   ]
  },
  {
   "cell_type": "markdown",
   "metadata": {},
   "source": [
    "# Načtení datasetu"
   ]
  },
  {
   "cell_type": "code",
   "execution_count": 176,
   "metadata": {},
   "outputs": [],
   "source": [
    "# Cesta k tabulce s pacienty\n",
    "filepath = './dataSepsis.csv'\n",
    "\n",
    "# Načtení celé tabulky\n",
    "fullSepsis = pd.read_csv(filepath, sep=';')\n",
    "\n",
    "#fullSepsis = dropIrrelevantColumns(fullSepsis)\n",
    "\n",
    "# Rozdělení tabulky do dvou datasetů\n",
    "sepsis0 = fullSepsis[fullSepsis[\"isSepsis\"] == 0] # dataset pacientů bez sepse (0)\n",
    "sepsis1 = fullSepsis[fullSepsis[\"isSepsis\"] == 1] # dataset pacientů se sepsí (1)\n"
   ]
  },
  {
   "cell_type": "code",
   "execution_count": 185,
   "metadata": {},
   "outputs": [
    {
     "data": {
      "text/plain": [
       "<Axes: >"
      ]
     },
     "execution_count": 185,
     "metadata": {},
     "output_type": "execute_result"
    },
    {
     "data": {
      "image/png": "[encoded data removed]",
      "text/plain": [
       "<Figure size 640x480 with 1 Axes>"
      ]
     },
     "metadata": {},
     "output_type": "display_data"
    }
   ],
   "source": [
    "relevantFullSepsis = replaceOutliers(fullSepsis)\n",
    "percentageOfNaN = (relevantFullSepsis.isnull().sum()/relevantFullSepsis.shape[0])*100\n",
    "percentageOfNaN.plot(kind=\"bar\")"
   ]
  },
  {
   "cell_type": "markdown",
   "metadata": {},
   "source": [
    "# Předzpracování"
   ]
  },
  {
   "cell_type": "markdown",
   "metadata": {},
   "source": [
    "# Předzpracování datasetu s pacienty bez sepse"
   ]
  },
  {
   "cell_type": "code",
   "execution_count": 109,
   "metadata": {},
   "outputs": [],
   "source": [
    "relevantSepsis0 = replaceOutliers(sepsis0)\n",
    "# odstranění řádků, které mají 1 a více NaN\n",
    "relevantSepsis0 = relevantSepsis0.dropna()\n"
   ]
  },
  {
   "cell_type": "code",
   "execution_count": 114,
   "metadata": {},
   "outputs": [
    {
     "data": {
      "text/html": [
       "<div>\n",
       "<style scoped>\n",
       "    .dataframe tbody tr th:only-of-type {\n",
       "        vertical-align: middle;\n",
       "    }\n",
       "\n",
       "    .dataframe tbody tr th {\n",
       "        vertical-align: top;\n",
       "    }\n",
       "\n",
       "    .dataframe thead th {\n",
       "        text-align: right;\n",
       "    }\n",
       "</style>\n",
       "<table border=\"1\" class=\"dataframe\">\n",
       "  <thead>\n",
       "    <tr style=\"text-align: right;\">\n",
       "      <th></th>\n",
       "      <th>HR</th>\n",
       "      <th>O2Sat</th>\n",
       "      <th>SBP</th>\n",
       "      <th>MAP</th>\n",
       "      <th>DBP</th>\n",
       "      <th>Resp</th>\n",
       "      <th>BUN</th>\n",
       "      <th>Calcium</th>\n",
       "      <th>Creatinine</th>\n",
       "      <th>Glucose</th>\n",
       "      <th>...</th>\n",
       "      <th>Potassium</th>\n",
       "      <th>Hct</th>\n",
       "      <th>Hgb</th>\n",
       "      <th>WBC</th>\n",
       "      <th>Platelets</th>\n",
       "      <th>Age</th>\n",
       "      <th>Gender</th>\n",
       "      <th>HospAdmTime</th>\n",
       "      <th>ICULOS</th>\n",
       "      <th>isSepsis</th>\n",
       "    </tr>\n",
       "  </thead>\n",
       "  <tbody>\n",
       "    <tr>\n",
       "      <th>23540</th>\n",
       "      <td>83.0</td>\n",
       "      <td>94.5</td>\n",
       "      <td>109.0</td>\n",
       "      <td>83.0</td>\n",
       "      <td>77.0</td>\n",
       "      <td>17.0</td>\n",
       "      <td>17.0</td>\n",
       "      <td>8.4</td>\n",
       "      <td>1.22</td>\n",
       "      <td>167.0</td>\n",
       "      <td>...</td>\n",
       "      <td>3.7</td>\n",
       "      <td>33.8</td>\n",
       "      <td>11.3</td>\n",
       "      <td>15.3</td>\n",
       "      <td>275.0</td>\n",
       "      <td>48.0</td>\n",
       "      <td>1.0</td>\n",
       "      <td>-19.54</td>\n",
       "      <td>4.0</td>\n",
       "      <td>0.0</td>\n",
       "    </tr>\n",
       "    <tr>\n",
       "      <th>30102</th>\n",
       "      <td>124.0</td>\n",
       "      <td>98.0</td>\n",
       "      <td>117.0</td>\n",
       "      <td>89.0</td>\n",
       "      <td>71.0</td>\n",
       "      <td>17.0</td>\n",
       "      <td>6.0</td>\n",
       "      <td>8.6</td>\n",
       "      <td>0.40</td>\n",
       "      <td>114.0</td>\n",
       "      <td>...</td>\n",
       "      <td>3.8</td>\n",
       "      <td>23.5</td>\n",
       "      <td>8.3</td>\n",
       "      <td>11.7</td>\n",
       "      <td>240.0</td>\n",
       "      <td>61.0</td>\n",
       "      <td>1.0</td>\n",
       "      <td>-191.28</td>\n",
       "      <td>10.0</td>\n",
       "      <td>0.0</td>\n",
       "    </tr>\n",
       "    <tr>\n",
       "      <th>31244</th>\n",
       "      <td>66.0</td>\n",
       "      <td>100.0</td>\n",
       "      <td>164.0</td>\n",
       "      <td>106.0</td>\n",
       "      <td>76.0</td>\n",
       "      <td>15.0</td>\n",
       "      <td>11.0</td>\n",
       "      <td>7.9</td>\n",
       "      <td>0.76</td>\n",
       "      <td>210.0</td>\n",
       "      <td>...</td>\n",
       "      <td>4.5</td>\n",
       "      <td>26.5</td>\n",
       "      <td>8.9</td>\n",
       "      <td>7.1</td>\n",
       "      <td>77.0</td>\n",
       "      <td>50.0</td>\n",
       "      <td>0.0</td>\n",
       "      <td>-14.36</td>\n",
       "      <td>13.0</td>\n",
       "      <td>0.0</td>\n",
       "    </tr>\n",
       "    <tr>\n",
       "      <th>34220</th>\n",
       "      <td>77.0</td>\n",
       "      <td>95.0</td>\n",
       "      <td>174.0</td>\n",
       "      <td>120.0</td>\n",
       "      <td>84.0</td>\n",
       "      <td>19.0</td>\n",
       "      <td>9.0</td>\n",
       "      <td>8.5</td>\n",
       "      <td>0.85</td>\n",
       "      <td>116.0</td>\n",
       "      <td>...</td>\n",
       "      <td>3.2</td>\n",
       "      <td>29.1</td>\n",
       "      <td>9.6</td>\n",
       "      <td>11.6</td>\n",
       "      <td>416.0</td>\n",
       "      <td>65.0</td>\n",
       "      <td>0.0</td>\n",
       "      <td>-4.51</td>\n",
       "      <td>11.0</td>\n",
       "      <td>0.0</td>\n",
       "    </tr>\n",
       "    <tr>\n",
       "      <th>32412</th>\n",
       "      <td>99.0</td>\n",
       "      <td>99.0</td>\n",
       "      <td>109.0</td>\n",
       "      <td>72.0</td>\n",
       "      <td>53.0</td>\n",
       "      <td>13.0</td>\n",
       "      <td>20.0</td>\n",
       "      <td>9.0</td>\n",
       "      <td>0.96</td>\n",
       "      <td>110.5</td>\n",
       "      <td>...</td>\n",
       "      <td>4.7</td>\n",
       "      <td>27.5</td>\n",
       "      <td>8.8</td>\n",
       "      <td>7.0</td>\n",
       "      <td>127.0</td>\n",
       "      <td>76.0</td>\n",
       "      <td>1.0</td>\n",
       "      <td>-156.60</td>\n",
       "      <td>10.0</td>\n",
       "      <td>0.0</td>\n",
       "    </tr>\n",
       "    <tr>\n",
       "      <th>...</th>\n",
       "      <td>...</td>\n",
       "      <td>...</td>\n",
       "      <td>...</td>\n",
       "      <td>...</td>\n",
       "      <td>...</td>\n",
       "      <td>...</td>\n",
       "      <td>...</td>\n",
       "      <td>...</td>\n",
       "      <td>...</td>\n",
       "      <td>...</td>\n",
       "      <td>...</td>\n",
       "      <td>...</td>\n",
       "      <td>...</td>\n",
       "      <td>...</td>\n",
       "      <td>...</td>\n",
       "      <td>...</td>\n",
       "      <td>...</td>\n",
       "      <td>...</td>\n",
       "      <td>...</td>\n",
       "      <td>...</td>\n",
       "      <td>...</td>\n",
       "    </tr>\n",
       "    <tr>\n",
       "      <th>30414</th>\n",
       "      <td>95.0</td>\n",
       "      <td>100.0</td>\n",
       "      <td>150.0</td>\n",
       "      <td>77.0</td>\n",
       "      <td>51.0</td>\n",
       "      <td>23.5</td>\n",
       "      <td>17.0</td>\n",
       "      <td>7.7</td>\n",
       "      <td>1.36</td>\n",
       "      <td>124.0</td>\n",
       "      <td>...</td>\n",
       "      <td>4.6</td>\n",
       "      <td>28.7</td>\n",
       "      <td>9.4</td>\n",
       "      <td>18.7</td>\n",
       "      <td>111.0</td>\n",
       "      <td>82.0</td>\n",
       "      <td>1.0</td>\n",
       "      <td>-233.93</td>\n",
       "      <td>4.0</td>\n",
       "      <td>0.0</td>\n",
       "    </tr>\n",
       "    <tr>\n",
       "      <th>16394</th>\n",
       "      <td>104.0</td>\n",
       "      <td>100.0</td>\n",
       "      <td>142.0</td>\n",
       "      <td>94.5</td>\n",
       "      <td>76.0</td>\n",
       "      <td>14.5</td>\n",
       "      <td>15.0</td>\n",
       "      <td>8.4</td>\n",
       "      <td>1.40</td>\n",
       "      <td>84.0</td>\n",
       "      <td>...</td>\n",
       "      <td>4.5</td>\n",
       "      <td>30.2</td>\n",
       "      <td>10.5</td>\n",
       "      <td>16.6</td>\n",
       "      <td>101.0</td>\n",
       "      <td>80.6</td>\n",
       "      <td>0.0</td>\n",
       "      <td>-24.83</td>\n",
       "      <td>38.0</td>\n",
       "      <td>0.0</td>\n",
       "    </tr>\n",
       "    <tr>\n",
       "      <th>26217</th>\n",
       "      <td>103.0</td>\n",
       "      <td>91.0</td>\n",
       "      <td>129.0</td>\n",
       "      <td>94.0</td>\n",
       "      <td>80.0</td>\n",
       "      <td>26.0</td>\n",
       "      <td>11.0</td>\n",
       "      <td>8.0</td>\n",
       "      <td>0.34</td>\n",
       "      <td>159.0</td>\n",
       "      <td>...</td>\n",
       "      <td>4.0</td>\n",
       "      <td>44.4</td>\n",
       "      <td>13.8</td>\n",
       "      <td>28.1</td>\n",
       "      <td>171.0</td>\n",
       "      <td>66.0</td>\n",
       "      <td>0.0</td>\n",
       "      <td>-116.65</td>\n",
       "      <td>13.0</td>\n",
       "      <td>0.0</td>\n",
       "    </tr>\n",
       "    <tr>\n",
       "      <th>28489</th>\n",
       "      <td>101.0</td>\n",
       "      <td>96.0</td>\n",
       "      <td>111.0</td>\n",
       "      <td>93.0</td>\n",
       "      <td>84.0</td>\n",
       "      <td>15.0</td>\n",
       "      <td>66.0</td>\n",
       "      <td>10.5</td>\n",
       "      <td>1.93</td>\n",
       "      <td>148.0</td>\n",
       "      <td>...</td>\n",
       "      <td>5.1</td>\n",
       "      <td>45.0</td>\n",
       "      <td>12.8</td>\n",
       "      <td>6.6</td>\n",
       "      <td>141.0</td>\n",
       "      <td>72.0</td>\n",
       "      <td>0.0</td>\n",
       "      <td>-12.04</td>\n",
       "      <td>12.0</td>\n",
       "      <td>0.0</td>\n",
       "    </tr>\n",
       "    <tr>\n",
       "      <th>18876</th>\n",
       "      <td>72.0</td>\n",
       "      <td>96.0</td>\n",
       "      <td>140.0</td>\n",
       "      <td>88.0</td>\n",
       "      <td>64.0</td>\n",
       "      <td>22.5</td>\n",
       "      <td>27.0</td>\n",
       "      <td>8.8</td>\n",
       "      <td>1.30</td>\n",
       "      <td>110.0</td>\n",
       "      <td>...</td>\n",
       "      <td>3.7</td>\n",
       "      <td>37.5</td>\n",
       "      <td>12.3</td>\n",
       "      <td>7.8</td>\n",
       "      <td>154.0</td>\n",
       "      <td>83.0</td>\n",
       "      <td>1.0</td>\n",
       "      <td>-48.15</td>\n",
       "      <td>40.0</td>\n",
       "      <td>0.0</td>\n",
       "    </tr>\n",
       "  </tbody>\n",
       "</table>\n",
       "<p>2000 rows × 21 columns</p>\n",
       "</div>"
      ],
      "text/plain": [
       "          HR  O2Sat    SBP    MAP   DBP  Resp   BUN  Calcium  Creatinine  \\\n",
       "23540   83.0   94.5  109.0   83.0  77.0  17.0  17.0      8.4        1.22   \n",
       "30102  124.0   98.0  117.0   89.0  71.0  17.0   6.0      8.6        0.40   \n",
       "31244   66.0  100.0  164.0  106.0  76.0  15.0  11.0      7.9        0.76   \n",
       "34220   77.0   95.0  174.0  120.0  84.0  19.0   9.0      8.5        0.85   \n",
       "32412   99.0   99.0  109.0   72.0  53.0  13.0  20.0      9.0        0.96   \n",
       "...      ...    ...    ...    ...   ...   ...   ...      ...         ...   \n",
       "30414   95.0  100.0  150.0   77.0  51.0  23.5  17.0      7.7        1.36   \n",
       "16394  104.0  100.0  142.0   94.5  76.0  14.5  15.0      8.4        1.40   \n",
       "26217  103.0   91.0  129.0   94.0  80.0  26.0  11.0      8.0        0.34   \n",
       "28489  101.0   96.0  111.0   93.0  84.0  15.0  66.0     10.5        1.93   \n",
       "18876   72.0   96.0  140.0   88.0  64.0  22.5  27.0      8.8        1.30   \n",
       "\n",
       "       Glucose  ...  Potassium   Hct   Hgb   WBC  Platelets   Age  Gender  \\\n",
       "23540    167.0  ...        3.7  33.8  11.3  15.3      275.0  48.0     1.0   \n",
       "30102    114.0  ...        3.8  23.5   8.3  11.7      240.0  61.0     1.0   \n",
       "31244    210.0  ...        4.5  26.5   8.9   7.1       77.0  50.0     0.0   \n",
       "34220    116.0  ...        3.2  29.1   9.6  11.6      416.0  65.0     0.0   \n",
       "32412    110.5  ...        4.7  27.5   8.8   7.0      127.0  76.0     1.0   \n",
       "...        ...  ...        ...   ...   ...   ...        ...   ...     ...   \n",
       "30414    124.0  ...        4.6  28.7   9.4  18.7      111.0  82.0     1.0   \n",
       "16394     84.0  ...        4.5  30.2  10.5  16.6      101.0  80.6     0.0   \n",
       "26217    159.0  ...        4.0  44.4  13.8  28.1      171.0  66.0     0.0   \n",
       "28489    148.0  ...        5.1  45.0  12.8   6.6      141.0  72.0     0.0   \n",
       "18876    110.0  ...        3.7  37.5  12.3   7.8      154.0  83.0     1.0   \n",
       "\n",
       "       HospAdmTime  ICULOS  isSepsis  \n",
       "23540       -19.54     4.0       0.0  \n",
       "30102      -191.28    10.0       0.0  \n",
       "31244       -14.36    13.0       0.0  \n",
       "34220        -4.51    11.0       0.0  \n",
       "32412      -156.60    10.0       0.0  \n",
       "...            ...     ...       ...  \n",
       "30414      -233.93     4.0       0.0  \n",
       "16394       -24.83    38.0       0.0  \n",
       "26217      -116.65    13.0       0.0  \n",
       "28489       -12.04    12.0       0.0  \n",
       "18876       -48.15    40.0       0.0  \n",
       "\n",
       "[2000 rows x 21 columns]"
      ]
     },
     "execution_count": 114,
     "metadata": {},
     "output_type": "execute_result"
    }
   ],
   "source": [
    "relevantSepsis0.sample(n=2000)"
   ]
  },
  {
   "cell_type": "code",
   "execution_count": null,
   "metadata": {},
   "outputs": [],
   "source": [
    "import matplotlib.pyplot as plt\n",
    "\n",
    "# Create individual scatter plots for each column\n",
    "for column in sepsis0.columns:\n",
    "    plt.figure()  # Create a new figure for each scatter plot\n",
    "    plt.scatter(range(len(sepsis0[column])), sepsis0[column])\n",
    "    plt.title(f'Scatter Plot for Column {column}')\n",
    "    plt.xlabel('Index')\n",
    "    plt.ylabel('Values')\n",
    "\n",
    "plt.show()"
   ]
  },
  {
   "cell_type": "markdown",
   "metadata": {},
   "source": [
    "# Předzpracování datasetu s pacienty se sepsí "
   ]
  },
  {
   "cell_type": "code",
   "execution_count": 108,
   "metadata": {},
   "outputs": [
    {
     "data": {
      "text/plain": [
       "HR             2575\n",
       "O2Sat          2470\n",
       "SBP            2372\n",
       "MAP            2518\n",
       "DBP            1972\n",
       "Resp           2381\n",
       "BUN             958\n",
       "Calcium         983\n",
       "Creatinine      920\n",
       "Glucose        1381\n",
       "Magnesium       935\n",
       "Potassium      1235\n",
       "Hct            1042\n",
       "Hgb             962\n",
       "WBC             880\n",
       "Platelets       885\n",
       "Age            2647\n",
       "Gender         2647\n",
       "HospAdmTime    2464\n",
       "ICULOS         2491\n",
       "isSepsis       2647\n",
       "dtype: int64"
      ]
     },
     "execution_count": 108,
     "metadata": {},
     "output_type": "execute_result"
    }
   ],
   "source": [
    "relevantSepsis1 = replaceOutliers(sepsis1)\n",
    "relevantSepsis1.count()"
   ]
  },
  {
   "cell_type": "code",
   "execution_count": 174,
   "metadata": {},
   "outputs": [
    {
     "data": {
      "text/plain": [
       "PearsonRResult(statistic=0.013372969386190404, pvalue=0.5500333154118018)"
      ]
     },
     "execution_count": 174,
     "metadata": {},
     "output_type": "execute_result"
    }
   ],
   "source": [
    "from scipy.stats import pearsonr\n",
    "\n",
    "pearsonr(relevantSepsis0[\"O2Sat\"].sample(n=2000), relevantSepsis1[\"O2Sat\"].dropna().sample(n=2000))\n"
   ]
  },
  {
   "cell_type": "markdown",
   "metadata": {},
   "source": [
    "# Odstranění sloupců, které mají počet NaN hodnot větší, než 25 % celkového počtu řádků"
   ]
  },
  {
   "cell_type": "code",
   "execution_count": 15,
   "metadata": {},
   "outputs": [
    {
     "data": {
      "text/plain": [
       "Index(['HR', 'O2Sat', 'SBP', 'MAP', 'DBP', 'Resp', 'BUN', 'Calcium',\n",
       "       'Creatinine', 'Glucose', 'Magnesium', 'Potassium', 'Hct', 'Hgb', 'WBC',\n",
       "       'Platelets', 'Age', 'Gender', 'HospAdmTime', 'ICULOS', 'isSepsis'],\n",
       "      dtype='object')"
      ]
     },
     "execution_count": 15,
     "metadata": {},
     "output_type": "execute_result"
    }
   ],
   "source": [
    "dropList = [] # list sloupců, které mají více jak 20000 NaN hodnot\n",
    "\n",
    "for column in fullSepsis.columns:\n",
    "    if fullSepsis[column].isnull().sum() > (fullSepsis.shape[0]*0.25):\n",
    "        dropList.append(column)\n",
    "\n",
    "filteredSepsis = fullSepsis.drop(columns=dropList)\n",
    "filteredSepsis.columns"
   ]
  },
  {
   "cell_type": "markdown",
   "metadata": {},
   "source": [
    "# Vykreslení scatter plotů pro vybrané sloupce"
   ]
  },
  {
   "cell_type": "code",
   "execution_count": null,
   "metadata": {},
   "outputs": [],
   "source": [
    "import matplotlib.pyplot as plt\n",
    "\n",
    "# Create individual scatter plots for each column\n",
    "for column in filteredSepsis.columns:\n",
    "    plt.figure()  # Create a new figure for each scatter plot\n",
    "    plt.scatter(range(len(filteredSepsis[column])), filteredSepsis[column])\n",
    "    plt.title(f'Scatter Plot for Column {column}')\n",
    "    plt.xlabel('Index')\n",
    "    plt.ylabel('Values')\n",
    "\n",
    "plt.show()"
   ]
  },
  {
   "cell_type": "markdown",
   "metadata": {},
   "source": [
    "# Vykreslení boxplotů pro vybrané sloupce"
   ]
  },
  {
   "cell_type": "code",
   "execution_count": null,
   "metadata": {},
   "outputs": [],
   "source": [
    "import matplotlib.pyplot as plt\n",
    "\n",
    "# Create individual boxplots for each column\n",
    "for column in filteredSepsis.columns:\n",
    "    plt.figure()  # Create a new figure for each boxplot\n",
    "    filteredSepsis.boxplot(column=[column])\n",
    "    plt.title(f'Boxplot for Column {column}')\n",
    "    plt.ylabel('Values')\n",
    "\n",
    "plt.show()"
   ]
  },
  {
   "cell_type": "markdown",
   "metadata": {},
   "source": [
    "# Nahrazení odlehlých hodnot NaN hodnotami"
   ]
  },
  {
   "cell_type": "code",
   "execution_count": 106,
   "metadata": {},
   "outputs": [],
   "source": [
    "filteredSepsis.loc[filteredSepsis[\"O2Sat\"]<60, \"O2Sat\"] = np.nan\n",
    "\n",
    "filteredSepsis[\"SBP\"] = filteredSepsis.SBP.where(filteredSepsis.SBP.between(50,220))\n",
    "\n",
    "filteredSepsis[\"MAP\"] = filteredSepsis.MAP.where(filteredSepsis.MAP.between(40,150))\n",
    "\n",
    "filteredSepsis[\"DBP\"] = filteredSepsis.DBP.where(filteredSepsis.DBP.between(20,150))\n",
    "\n",
    "\n"
   ]
  },
  {
   "cell_type": "markdown",
   "metadata": {},
   "source": [
    "# Testování normality pomocí Q-Q plotu"
   ]
  },
  {
   "cell_type": "code",
   "execution_count": 54,
   "metadata": {},
   "outputs": [
    {
     "data": {
      "image/png": "[encoded data removed]",
      "text/plain": [
       "<Figure size 640x480 with 1 Axes>"
      ]
     },
     "metadata": {},
     "output_type": "display_data"
    }
   ],
   "source": [
    "import statsmodels.api as sm\n",
    "import matplotlib.pyplot as plt\n",
    "\n",
    "#create Q-Q plot with 45-degree line added to plot\n",
    "fig = sm.qqplot(sepsis0[\"HR\"])\n",
    "plt.show()"
   ]
  },
  {
   "cell_type": "code",
   "execution_count": 6,
   "metadata": {},
   "outputs": [
    {
     "name": "stdout",
     "output_type": "stream",
     "text": [
      "HR, 796\n",
      "O2Sat, 1566\n",
      "SBP, 1685\n",
      "MAP, 1456\n",
      "DBP, 8385\n",
      "Resp, 2412\n",
      "BUN, 3776\n",
      "Calcium, 7679\n",
      "Creatinine, 4042\n",
      "Glucose, 3045\n",
      "Magnesium, 8631\n",
      "Potassium, 3593\n",
      "Hct, 4122\n",
      "Hgb, 4486\n",
      "WBC, 4842\n",
      "Platelets, 4833\n",
      "Age, 0\n",
      "Gender, 0\n",
      "HospAdmTime, 0\n",
      "ICULOS, 0\n",
      "isSepsis, 0\n"
     ]
    }
   ],
   "source": [
    "for column in filteredSepsis.columns:\n",
    "    n_NaN = filteredSepsis[column].isnull().sum()\n",
    "    print(f\"{column}, {n_NaN}\")"
   ]
  }
 ],
 "metadata": {
  "kernelspec": {
   "display_name": "Python 3",
   "language": "python",
   "name": "python3"
  },
  "language_info": {
   "codemirror_mode": {
    "name": "ipython",
    "version": 3
   },
   "file_extension": ".py",
   "mimetype": "text/x-python",
   "name": "python",
   "nbconvert_exporter": "python",
   "pygments_lexer": "ipython3",
   "version": "3.9.6"
  }
 },
 "nbformat": 4,
 "nbformat_minor": 2
}
