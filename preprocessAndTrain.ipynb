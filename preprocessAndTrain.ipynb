{
 "cells": [
  {
   "cell_type": "code",
   "execution_count": 14,
   "metadata": {},
   "outputs": [],
   "source": [
    "import joblib\n",
    "import pandas as pd\n",
    "import numpy as np\n",
    "from sklearn.preprocessing import StandardScaler\n",
    "from sklearn.impute import KNNImputer\n",
    "\n",
    "\n",
    "from sklearn.model_selection import train_test_split\n",
    "from xgboost import XGBClassifier\n",
    "\n",
    "\n",
    "from sklearn.metrics import confusion_matrix\n",
    "from GetScoreSepsis import GetScoreSepsis"
   ]
  },
  {
   "cell_type": "markdown",
   "metadata": {},
   "source": [
    "# Načtení dat"
   ]
  },
  {
   "cell_type": "code",
   "execution_count": 15,
   "metadata": {},
   "outputs": [],
   "source": [
    "# Cesta k tabulce s pacienty\n",
    "filepath = './dataSepsis.csv'\n",
    "\n",
    "# Načtení celé tabulky\n",
    "fullSepsis = pd.read_csv(filepath, sep=';')"
   ]
  },
  {
   "cell_type": "markdown",
   "metadata": {},
   "source": [
    "# Odstranění sloupců a vymazání řádků s příliš mnoha NaN"
   ]
  },
  {
   "cell_type": "code",
   "execution_count": 16,
   "metadata": {},
   "outputs": [],
   "source": [
    "# Seznam všech sloupců, které mají být odstraněny\n",
    "# Sloupce jsem vybírali na základě počtu NaN, korelace a statistické významnosti\n",
    "\n",
    "drop_list = ['Temp','EtCO2','BaseExcess','HCO3','FiO2','pH',\n",
    " 'PaCO2','SaO2','AST','Alkalinephos','Chloride','Bilirubin_direct',\n",
    " 'Lactate','Phosphate','Bilirubin_total','TroponinI','PTT','Fibrinogen','Unit1',\n",
    " 'Unit2', 'SBP', 'DBP', 'Hct', 'Age', 'Platelets', 'BUN']\n",
    "\n",
    "# Odstranění sloupců\n",
    "relevantSepsis = fullSepsis.drop(columns=drop_list)\n",
    "\n",
    "# Odstranění řádků, které mají polovinu a více hodnot jako NaN hodnoty\n",
    "relevantSepsis = relevantSepsis.dropna(thresh=relevantSepsis.shape[1]/2)\n",
    "relevantSepsis = relevantSepsis.reset_index()\n",
    "relevantSepsis.drop(columns=['index'], inplace=True)"
   ]
  },
  {
   "cell_type": "markdown",
   "metadata": {},
   "source": [
    "# Separování sloupce s určením, zda je pacient sepický či nikoliv"
   ]
  },
  {
   "cell_type": "code",
   "execution_count": 17,
   "metadata": {},
   "outputs": [],
   "source": [
    "isSepsis = relevantSepsis[\"isSepsis\"]\n",
    "relevantSepsis.drop(columns=[\"isSepsis\"], inplace=True)"
   ]
  },
  {
   "cell_type": "markdown",
   "metadata": {},
   "source": [
    "# Předzpracování dat"
   ]
  },
  {
   "cell_type": "code",
   "execution_count": 18,
   "metadata": {},
   "outputs": [],
   "source": [
    "df = relevantSepsis\n",
    "# Výpočet interquartilového rozptylu pro každý sloupce\n",
    "Q1 = df.quantile(0.25)\n",
    "Q3 = df.quantile(0.75)\n",
    "IQR = Q3 - Q1\n",
    "\n",
    "# Stanovení horní a dolní hranice\n",
    "lower_bound = Q1 - 1.5 * IQR\n",
    "upper_bound = Q3 + 1.5 * IQR\n",
    "\n",
    "# Nahrazení odlehlých hodnot hodnotami NaN na základě daných hranic\n",
    "df_outliers_removed = df[(df >= lower_bound) & (df <= upper_bound)]\n",
    "\n",
    "# Standardizace datasetu (dojde k převedení na array)\n",
    "scaler = StandardScaler()\n",
    "standardizedSepsis = scaler.fit_transform(df_outliers_removed)\n",
    "\n",
    "# Nahrazení NaN pomocí k-nejbližších sousedů\n",
    "imputer = KNNImputer(n_neighbors=100)\n",
    "finalSepsis = imputer.fit_transform(standardizedSepsis)\n",
    "\n",
    "# Zpětné převedení na dataframe\n",
    "preprocessed_data = pd.DataFrame(data= finalSepsis, columns=df.columns)"
   ]
  },
  {
   "cell_type": "markdown",
   "metadata": {},
   "source": [
    "# Vytvoření dvou datasetů s náhodně vybranými pacienty se sepsí a bez sepse"
   ]
  },
  {
   "cell_type": "code",
   "execution_count": 19,
   "metadata": {},
   "outputs": [],
   "source": [
    "sepsis_df = preprocessed_data[isSepsis==1].sample(2000)\n",
    "no_sepsis_df = preprocessed_data[isSepsis==0].sample(2000)"
   ]
  },
  {
   "cell_type": "markdown",
   "metadata": {},
   "source": [
    "# Trénování modelu"
   ]
  },
  {
   "cell_type": "code",
   "execution_count": 20,
   "metadata": {},
   "outputs": [
    {
     "name": "stdout",
     "output_type": "stream",
     "text": [
      "[0]\tvalidation_0-logloss:0.63645\n",
      "[1]\tvalidation_0-logloss:0.58238\n",
      "[2]\tvalidation_0-logloss:0.55620\n",
      "[3]\tvalidation_0-logloss:0.53729\n",
      "[4]\tvalidation_0-logloss:0.52312\n",
      "[5]\tvalidation_0-logloss:0.49770\n",
      "[6]\tvalidation_0-logloss:0.48701\n",
      "[7]\tvalidation_0-logloss:0.47430\n",
      "[8]\tvalidation_0-logloss:0.46465\n",
      "[9]\tvalidation_0-logloss:0.45852\n",
      "[10]\tvalidation_0-logloss:0.45379\n",
      "[11]\tvalidation_0-logloss:0.44250\n",
      "[12]\tvalidation_0-logloss:0.43746\n",
      "[13]\tvalidation_0-logloss:0.43231\n",
      "[14]\tvalidation_0-logloss:0.42304\n",
      "[15]\tvalidation_0-logloss:0.42065\n",
      "[16]\tvalidation_0-logloss:0.41662\n"
     ]
    },
    {
     "name": "stdout",
     "output_type": "stream",
     "text": [
      "[17]\tvalidation_0-logloss:0.41484\n",
      "[18]\tvalidation_0-logloss:0.41357\n",
      "[19]\tvalidation_0-logloss:0.40811\n",
      "[20]\tvalidation_0-logloss:0.40654\n",
      "[21]\tvalidation_0-logloss:0.40488\n",
      "[22]\tvalidation_0-logloss:0.40008\n",
      "[23]\tvalidation_0-logloss:0.39533\n",
      "[24]\tvalidation_0-logloss:0.39475\n",
      "[25]\tvalidation_0-logloss:0.39362\n",
      "[26]\tvalidation_0-logloss:0.39405\n",
      "[27]\tvalidation_0-logloss:0.39000\n",
      "[28]\tvalidation_0-logloss:0.38902\n",
      "[29]\tvalidation_0-logloss:0.38752\n",
      "[30]\tvalidation_0-logloss:0.38484\n",
      "[31]\tvalidation_0-logloss:0.38328\n",
      "[32]\tvalidation_0-logloss:0.38236\n",
      "[33]\tvalidation_0-logloss:0.38270\n",
      "[34]\tvalidation_0-logloss:0.38117\n",
      "[35]\tvalidation_0-logloss:0.38098\n",
      "[36]\tvalidation_0-logloss:0.38006\n",
      "[37]\tvalidation_0-logloss:0.37990\n",
      "[38]\tvalidation_0-logloss:0.37824\n",
      "[39]\tvalidation_0-logloss:0.37893\n",
      "[40]\tvalidation_0-logloss:0.37920\n",
      "[41]\tvalidation_0-logloss:0.37901\n",
      "[42]\tvalidation_0-logloss:0.37772\n",
      "[43]\tvalidation_0-logloss:0.37631\n",
      "[44]\tvalidation_0-logloss:0.37599\n",
      "[45]\tvalidation_0-logloss:0.37590\n",
      "[46]\tvalidation_0-logloss:0.37616\n",
      "[47]\tvalidation_0-logloss:0.37641\n",
      "[48]\tvalidation_0-logloss:0.37412\n",
      "[49]\tvalidation_0-logloss:0.37424\n",
      "[50]\tvalidation_0-logloss:0.37400\n",
      "[51]\tvalidation_0-logloss:0.37395\n",
      "[52]\tvalidation_0-logloss:0.37202\n",
      "[53]\tvalidation_0-logloss:0.37151\n",
      "[54]\tvalidation_0-logloss:0.37142\n",
      "[55]\tvalidation_0-logloss:0.37147\n",
      "[56]\tvalidation_0-logloss:0.37153\n",
      "[57]\tvalidation_0-logloss:0.36974\n",
      "[58]\tvalidation_0-logloss:0.36875\n",
      "[59]\tvalidation_0-logloss:0.36817\n",
      "[60]\tvalidation_0-logloss:0.36823\n",
      "[61]\tvalidation_0-logloss:0.36795\n",
      "[62]\tvalidation_0-logloss:0.36741\n",
      "[63]\tvalidation_0-logloss:0.36771\n",
      "[64]\tvalidation_0-logloss:0.36701\n",
      "[65]\tvalidation_0-logloss:0.36712\n",
      "[66]\tvalidation_0-logloss:0.36543\n",
      "[67]\tvalidation_0-logloss:0.36591\n",
      "[68]\tvalidation_0-logloss:0.36643\n",
      "[69]\tvalidation_0-logloss:0.36511\n",
      "[70]\tvalidation_0-logloss:0.36513\n",
      "[71]\tvalidation_0-logloss:0.36564\n",
      "[72]\tvalidation_0-logloss:0.36558\n",
      "[73]\tvalidation_0-logloss:0.36618\n",
      "[74]\tvalidation_0-logloss:0.36683\n",
      "[75]\tvalidation_0-logloss:0.36668\n",
      "[76]\tvalidation_0-logloss:0.36686\n",
      "[77]\tvalidation_0-logloss:0.36646\n",
      "[78]\tvalidation_0-logloss:0.36551\n"
     ]
    },
    {
     "data": {
      "text/html": [
       "<style>#sk-container-id-3 {color: black;}#sk-container-id-3 pre{padding: 0;}#sk-container-id-3 div.sk-toggleable {background-color: white;}#sk-container-id-3 label.sk-toggleable__label {cursor: pointer;display: block;width: 100%;margin-bottom: 0;padding: 0.3em;box-sizing: border-box;text-align: center;}#sk-container-id-3 label.sk-toggleable__label-arrow:before {content: \"▸\";float: left;margin-right: 0.25em;color: #696969;}#sk-container-id-3 label.sk-toggleable__label-arrow:hover:before {color: black;}#sk-container-id-3 div.sk-estimator:hover label.sk-toggleable__label-arrow:before {color: black;}#sk-container-id-3 div.sk-toggleable__content {max-height: 0;max-width: 0;overflow: hidden;text-align: left;background-color: #f0f8ff;}#sk-container-id-3 div.sk-toggleable__content pre {margin: 0.2em;color: black;border-radius: 0.25em;background-color: #f0f8ff;}#sk-container-id-3 input.sk-toggleable__control:checked~div.sk-toggleable__content {max-height: 200px;max-width: 100%;overflow: auto;}#sk-container-id-3 input.sk-toggleable__control:checked~label.sk-toggleable__label-arrow:before {content: \"▾\";}#sk-container-id-3 div.sk-estimator input.sk-toggleable__control:checked~label.sk-toggleable__label {background-color: #d4ebff;}#sk-container-id-3 div.sk-label input.sk-toggleable__control:checked~label.sk-toggleable__label {background-color: #d4ebff;}#sk-container-id-3 input.sk-hidden--visually {border: 0;clip: rect(1px 1px 1px 1px);clip: rect(1px, 1px, 1px, 1px);height: 1px;margin: -1px;overflow: hidden;padding: 0;position: absolute;width: 1px;}#sk-container-id-3 div.sk-estimator {font-family: monospace;background-color: #f0f8ff;border: 1px dotted black;border-radius: 0.25em;box-sizing: border-box;margin-bottom: 0.5em;}#sk-container-id-3 div.sk-estimator:hover {background-color: #d4ebff;}#sk-container-id-3 div.sk-parallel-item::after {content: \"\";width: 100%;border-bottom: 1px solid gray;flex-grow: 1;}#sk-container-id-3 div.sk-label:hover label.sk-toggleable__label {background-color: #d4ebff;}#sk-container-id-3 div.sk-serial::before {content: \"\";position: absolute;border-left: 1px solid gray;box-sizing: border-box;top: 0;bottom: 0;left: 50%;z-index: 0;}#sk-container-id-3 div.sk-serial {display: flex;flex-direction: column;align-items: center;background-color: white;padding-right: 0.2em;padding-left: 0.2em;position: relative;}#sk-container-id-3 div.sk-item {position: relative;z-index: 1;}#sk-container-id-3 div.sk-parallel {display: flex;align-items: stretch;justify-content: center;background-color: white;position: relative;}#sk-container-id-3 div.sk-item::before, #sk-container-id-3 div.sk-parallel-item::before {content: \"\";position: absolute;border-left: 1px solid gray;box-sizing: border-box;top: 0;bottom: 0;left: 50%;z-index: -1;}#sk-container-id-3 div.sk-parallel-item {display: flex;flex-direction: column;z-index: 1;position: relative;background-color: white;}#sk-container-id-3 div.sk-parallel-item:first-child::after {align-self: flex-end;width: 50%;}#sk-container-id-3 div.sk-parallel-item:last-child::after {align-self: flex-start;width: 50%;}#sk-container-id-3 div.sk-parallel-item:only-child::after {width: 0;}#sk-container-id-3 div.sk-dashed-wrapped {border: 1px dashed gray;margin: 0 0.4em 0.5em 0.4em;box-sizing: border-box;padding-bottom: 0.4em;background-color: white;}#sk-container-id-3 div.sk-label label {font-family: monospace;font-weight: bold;display: inline-block;line-height: 1.2em;}#sk-container-id-3 div.sk-label-container {text-align: center;}#sk-container-id-3 div.sk-container {/* jupyter's `normalize.less` sets `[hidden] { display: none; }` but bootstrap.min.css set `[hidden] { display: none !important; }` so we also need the `!important` here to be able to override the default hidden behavior on the sphinx rendered scikit-learn.org. See: https://github.com/scikit-learn/scikit-learn/issues/21755 */display: inline-block !important;position: relative;}#sk-container-id-3 div.sk-text-repr-fallback {display: none;}</style><div id=\"sk-container-id-3\" class=\"sk-top-container\"><div class=\"sk-text-repr-fallback\"><pre>XGBClassifier(base_score=None, booster=&#x27;gbtree&#x27;, callbacks=None,\n",
       "              colsample_bylevel=None, colsample_bynode=None,\n",
       "              colsample_bytree=None, device=None, early_stopping_rounds=10,\n",
       "              enable_categorical=False, eval_metric=None, feature_types=None,\n",
       "              gamma=None, grow_policy=&#x27;depthwise&#x27;, importance_type=None,\n",
       "              interaction_constraints=None, learning_rate=None, max_bin=None,\n",
       "              max_cat_threshold=None, max_cat_to_onehot=None,\n",
       "              max_delta_step=None, max_depth=4, max_leaves=4,\n",
       "              min_child_weight=None, missing=nan, monotone_constraints=None,\n",
       "              multi_strategy=None, n_estimators=100, n_jobs=None,\n",
       "              num_parallel_tree=None, random_state=None, ...)</pre><b>In a Jupyter environment, please rerun this cell to show the HTML representation or trust the notebook. <br />On GitHub, the HTML representation is unable to render, please try loading this page with nbviewer.org.</b></div><div class=\"sk-container\" hidden><div class=\"sk-item\"><div class=\"sk-estimator sk-toggleable\"><input class=\"sk-toggleable__control sk-hidden--visually\" id=\"sk-estimator-id-3\" type=\"checkbox\" checked><label for=\"sk-estimator-id-3\" class=\"sk-toggleable__label sk-toggleable__label-arrow\">XGBClassifier</label><div class=\"sk-toggleable__content\"><pre>XGBClassifier(base_score=None, booster=&#x27;gbtree&#x27;, callbacks=None,\n",
       "              colsample_bylevel=None, colsample_bynode=None,\n",
       "              colsample_bytree=None, device=None, early_stopping_rounds=10,\n",
       "              enable_categorical=False, eval_metric=None, feature_types=None,\n",
       "              gamma=None, grow_policy=&#x27;depthwise&#x27;, importance_type=None,\n",
       "              interaction_constraints=None, learning_rate=None, max_bin=None,\n",
       "              max_cat_threshold=None, max_cat_to_onehot=None,\n",
       "              max_delta_step=None, max_depth=4, max_leaves=4,\n",
       "              min_child_weight=None, missing=nan, monotone_constraints=None,\n",
       "              multi_strategy=None, n_estimators=100, n_jobs=None,\n",
       "              num_parallel_tree=None, random_state=None, ...)</pre></div></div></div></div></div>"
      ],
      "text/plain": [
       "XGBClassifier(base_score=None, booster='gbtree', callbacks=None,\n",
       "              colsample_bylevel=None, colsample_bynode=None,\n",
       "              colsample_bytree=None, device=None, early_stopping_rounds=10,\n",
       "              enable_categorical=False, eval_metric=None, feature_types=None,\n",
       "              gamma=None, grow_policy='depthwise', importance_type=None,\n",
       "              interaction_constraints=None, learning_rate=None, max_bin=None,\n",
       "              max_cat_threshold=None, max_cat_to_onehot=None,\n",
       "              max_delta_step=None, max_depth=4, max_leaves=4,\n",
       "              min_child_weight=None, missing=nan, monotone_constraints=None,\n",
       "              multi_strategy=None, n_estimators=100, n_jobs=None,\n",
       "              num_parallel_tree=None, random_state=None, ...)"
      ]
     },
     "execution_count": 20,
     "metadata": {},
     "output_type": "execute_result"
    }
   ],
   "source": [
    "# Zpětné přidání informace o diagnostice sepse\n",
    "sepsis_df['sepsis'] = 1\n",
    "no_sepsis_df['sepsis'] = 0\n",
    "\n",
    "# Spojení datasetů do testovacího datasetu\n",
    "combined_df = pd.concat([sepsis_df, no_sepsis_df], ignore_index=True)\n",
    "\n",
    "# Oddělení příznaků (X) od předpovídané proměnné (y)\n",
    "X = combined_df.drop('sepsis', axis=1)\n",
    "y = combined_df['sepsis']\n",
    "\n",
    "# Rozdělení dat na testovací a trénovací množinu\n",
    "X_train, X_test, y_train, y_test = train_test_split(X, y, test_size=0.2, random_state=42)\n",
    "\n",
    "\n",
    "# Vytvoření XGBoost classifier\n",
    "model = XGBClassifier(n_estimators=100,\n",
    "                      max_depth=4,\n",
    "                      max_leaves=4,\n",
    "                      grow_policy=\"depthwise\",\n",
    "                      booster=\"gbtree\",\n",
    "                      early_stopping_rounds=10\n",
    "                      )\n",
    "\n",
    "model.fit(X_train, y_train, eval_set=[(X_test, y_test)])\n"
   ]
  },
  {
   "cell_type": "markdown",
   "metadata": {},
   "source": [
    "# Zjišťování score pro trénovací množinu"
   ]
  },
  {
   "cell_type": "code",
   "execution_count": 23,
   "metadata": {},
   "outputs": [
    {
     "name": "stdout",
     "output_type": "stream",
     "text": [
      "[[1404  218]\n",
      " [ 221 1357]]\n"
     ]
    },
    {
     "data": {
      "text/plain": [
       "(0.8615873015873016, 0.864, 0.8628125, 0.8599493029150824, 0.860767522993974)"
      ]
     },
     "execution_count": 23,
     "metadata": {},
     "output_type": "execute_result"
    }
   ],
   "source": [
    "yPredTrain = model.predict(X_train)\n",
    "\n",
    "confMatrixTrain = confusion_matrix(y_train, yPredTrain)\n",
    "print(confMatrixTrain)\n",
    "GetScoreSepsis(confMatrixTrain)"
   ]
  },
  {
   "cell_type": "markdown",
   "metadata": {},
   "source": [
    "# Zjišťování score pro testovací množinu"
   ]
  },
  {
   "cell_type": "code",
   "execution_count": 22,
   "metadata": {},
   "outputs": [
    {
     "name": "stdout",
     "output_type": "stream",
     "text": [
      "[[307  71]\n",
      " [ 62 360]]\n"
     ]
    },
    {
     "data": {
      "text/plain": [
       "(0.8352668213457076,\n",
       " 0.8319783197831978,\n",
       " 0.83375,\n",
       " 0.8530805687203792,\n",
       " 0.8440797186400938)"
      ]
     },
     "execution_count": 22,
     "metadata": {},
     "output_type": "execute_result"
    }
   ],
   "source": [
    "yPred = model.predict(X_test)\n",
    "\n",
    "confMatrix = confusion_matrix(y_test, yPred)\n",
    "GetScoreSepsis(confMatrix)"
   ]
  },
  {
   "cell_type": "markdown",
   "metadata": {},
   "source": [
    "# Uložení modelu"
   ]
  },
  {
   "cell_type": "code",
   "execution_count": 47,
   "metadata": {},
   "outputs": [
    {
     "data": {
      "text/plain": [
       "['HVH_model.joblib']"
      ]
     },
     "execution_count": 47,
     "metadata": {},
     "output_type": "execute_result"
    }
   ],
   "source": [
    "joblib.dump(model, \"HVH_model.joblib\")"
   ]
  }
 ],
 "metadata": {
  "kernelspec": {
   "display_name": "Python 3",
   "language": "python",
   "name": "python3"
  },
  "language_info": {
   "codemirror_mode": {
    "name": "ipython",
    "version": 3
   },
   "file_extension": ".py",
   "mimetype": "text/x-python",
   "name": "python",
   "nbconvert_exporter": "python",
   "pygments_lexer": "ipython3",
   "version": "3.11.4"
  }
 },
 "nbformat": 4,
 "nbformat_minor": 2
}
