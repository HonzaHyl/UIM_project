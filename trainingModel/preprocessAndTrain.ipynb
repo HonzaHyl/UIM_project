{
 "cells": [
  {
   "cell_type": "code",
   "execution_count": 48,
   "metadata": {},
   "outputs": [],
   "source": [
    "import joblib\n",
    "import pandas as pd\n",
    "import numpy as np\n",
    "from sklearn.preprocessing import StandardScaler\n",
    "from sklearn.impute import KNNImputer\n",
    "\n",
    "\n",
    "from sklearn.model_selection import train_test_split\n",
    "from xgboost import XGBClassifier\n",
    "\n",
    "\n",
    "from sklearn.metrics import confusion_matrix\n",
    "from GetScoreSepsis import GetScoreSepsis"
   ]
  },
  {
   "cell_type": "markdown",
   "metadata": {},
   "source": [
    "# Načtení dat"
   ]
  },
  {
   "cell_type": "code",
   "execution_count": 49,
   "metadata": {},
   "outputs": [],
   "source": [
    "# Cesta k tabulce s pacienty\n",
    "filepath = './dataSepsis.csv'\n",
    "\n",
    "# Načtení celé tabulky\n",
    "fullSepsis = pd.read_csv(filepath, sep=';')"
   ]
  },
  {
   "cell_type": "markdown",
   "metadata": {},
   "source": [
    "# Odstranění sloupců a vymazání řádků s příliš mnoha NaN"
   ]
  },
  {
   "cell_type": "code",
   "execution_count": 50,
   "metadata": {},
   "outputs": [],
   "source": [
    "# Seznam všech sloupců, které mají být odstraněny\n",
    "# Sloupce jsem vybírali na základě počtu NaN, korelace a statistické významnosti\n",
    "\n",
    "drop_list = ['Temp','EtCO2','BaseExcess','HCO3','FiO2','pH',\n",
    " 'PaCO2','SaO2','AST','Alkalinephos','Chloride','Bilirubin_direct',\n",
    " 'Lactate','Phosphate','Bilirubin_total','TroponinI','PTT','Fibrinogen','Unit1',\n",
    " 'Unit2', 'SBP', 'DBP', 'Hct', 'Age', 'Platelets', 'BUN']\n",
    "\n",
    "# Odstranění sloupců\n",
    "relevantSepsis = fullSepsis.drop(columns=drop_list)\n",
    "\n",
    "# Odstranění řádků, které mají polovinu a více hodnot jako NaN hodnoty\n",
    "relevantSepsis = relevantSepsis.dropna(thresh=relevantSepsis.shape[1]/2)\n",
    "relevantSepsis = relevantSepsis.reset_index()\n",
    "relevantSepsis.drop(columns=['index'], inplace=True)"
   ]
  },
  {
   "cell_type": "markdown",
   "metadata": {},
   "source": [
    "# Separování sloupce s určením, zda je pacient sepický či nikoliv"
   ]
  },
  {
   "cell_type": "code",
   "execution_count": null,
   "metadata": {},
   "outputs": [],
   "source": [
    "isSepsis = relevantSepsis[\"isSepsis\"]\n",
    "relevantSepsis.drop(columns=[\"isSepsis\"])"
   ]
  },
  {
   "cell_type": "markdown",
   "metadata": {},
   "source": [
    "# Předzpracování dat"
   ]
  },
  {
   "cell_type": "code",
   "execution_count": 51,
   "metadata": {},
   "outputs": [],
   "source": [
    "df = relevantSepsis\n",
    "# Výpočet interquartilového rozptylu pro každý sloupce\n",
    "Q1 = df.quantile(0.25)\n",
    "Q3 = df.quantile(0.75)\n",
    "IQR = Q3 - Q1\n",
    "\n",
    "# Stanovení horní a dolní hranice\n",
    "lower_bound = Q1 - 1.5 * IQR\n",
    "upper_bound = Q3 + 1.5 * IQR\n",
    "\n",
    "# Nahrazení odlehlých hodnot hodnotami NaN na základě daných hranic\n",
    "df_outliers_removed = df[(df >= lower_bound) & (df <= upper_bound)]\n",
    "\n",
    "# Standardizace datasetu (dojde k převedení na array)\n",
    "scaler = StandardScaler()\n",
    "standardizedSepsis = scaler.fit_transform(df_outliers_removed)\n",
    "\n",
    "# Nahrazení NaN pomocí k-nejbližších sousedů\n",
    "imputer = KNNImputer(n_neighbors=100)\n",
    "finalSepsis = imputer.fit_transform(standardizedSepsis)\n",
    "\n",
    "# Zpětné převedení na dataframe\n",
    "preprocessed_data = pd.DataFrame(data= finalSepsis, columns=df.columns)"
   ]
  },
  {
   "cell_type": "markdown",
   "metadata": {},
   "source": [
    "# Vytvoření dvou datasetů s náhodně vybranými pacienty se sepsí a bez sepse"
   ]
  },
  {
   "cell_type": "code",
   "execution_count": 62,
   "metadata": {},
   "outputs": [],
   "source": [
    "sepsis_df = preprocessed_data[isSepsis==1].sample(2000)\n",
    "no_sepsis_df = preprocessed_data[isSepsis==0].sample(2000)"
   ]
  },
  {
   "cell_type": "markdown",
   "metadata": {},
   "source": [
    "# Trénování modelu"
   ]
  },
  {
   "cell_type": "code",
   "execution_count": null,
   "metadata": {},
   "outputs": [],
   "source": [
    "# Zpětné přidání informace o diagnostice sepse\n",
    "sepsis_df['sepsis'] = 1\n",
    "no_sepsis_df['sepsis'] = 0\n",
    "\n",
    "# Spojení datasetů do testovacího datasetu\n",
    "combined_df = pd.concat([sepsis_df, no_sepsis_df], ignore_index=True)\n",
    "\n",
    "# Oddělení příznaků (X) od předpovídané proměnné (y)\n",
    "X = combined_df.drop('sepsis', axis=1)\n",
    "y = combined_df['sepsis']\n",
    "\n",
    "# Rozdělení dat na testovací a trénovací množinu\n",
    "X_train, X_test, y_train, y_test = train_test_split(X, y, test_size=0.2, random_state=42)\n",
    "\n",
    "\n",
    "# Vytvoření XGBoost classifier\n",
    "model = XGBClassifier(n_estimators=100,\n",
    "                      max_depth=4,\n",
    "                      max_leaves=4,\n",
    "                      grow_policy=\"depthwise\",\n",
    "                      booster=\"gbtree\",\n",
    "                      early_stopping_rounds=10\n",
    "                      )\n",
    "\n",
    "model.fit(X_train, y_train, eval_set=[(X_test, y_test)])\n"
   ]
  },
  {
   "cell_type": "markdown",
   "metadata": {},
   "source": [
    "# Zjišťování score pro trénovací množinu"
   ]
  },
  {
   "cell_type": "code",
   "execution_count": 64,
   "metadata": {},
   "outputs": [
    {
     "data": {
      "text/plain": [
       "(0.867877269881027,\n",
       " 0.8739862757330006,\n",
       " 0.8709375,\n",
       " 0.8727959697732998,\n",
       " 0.8703296703296703)"
      ]
     },
     "execution_count": 64,
     "metadata": {},
     "output_type": "execute_result"
    }
   ],
   "source": [
    "yPredTrain = model.predict(X_train)\n",
    "\n",
    "confMatrixTrain = confusion_matrix(y_train, yPredTrain)\n",
    "GetScoreSepsis(confMatrixTrain)"
   ]
  },
  {
   "cell_type": "markdown",
   "metadata": {},
   "source": [
    "# Zjišťování score pro testovací množinu"
   ]
  },
  {
   "cell_type": "code",
   "execution_count": 65,
   "metadata": {},
   "outputs": [
    {
     "data": {
      "text/plain": [
       "(0.8216867469879519,\n",
       " 0.8155844155844156,\n",
       " 0.81875,\n",
       " 0.8276699029126213,\n",
       " 0.8246674727932285)"
      ]
     },
     "execution_count": 65,
     "metadata": {},
     "output_type": "execute_result"
    }
   ],
   "source": [
    "yPred = model.predict(X_test)\n",
    "\n",
    "confMatrix = confusion_matrix(y_test, yPred)\n",
    "GetScoreSepsis(confMatrix)"
   ]
  },
  {
   "cell_type": "markdown",
   "metadata": {},
   "source": [
    "# Uložení modelu"
   ]
  },
  {
   "cell_type": "code",
   "execution_count": 47,
   "metadata": {},
   "outputs": [
    {
     "data": {
      "text/plain": [
       "['HVH_model.joblib']"
      ]
     },
     "execution_count": 47,
     "metadata": {},
     "output_type": "execute_result"
    }
   ],
   "source": [
    "joblib.dump(model, \"HVH_model.joblib\")"
   ]
  }
 ],
 "metadata": {
  "kernelspec": {
   "display_name": "Python 3",
   "language": "python",
   "name": "python3"
  },
  "language_info": {
   "codemirror_mode": {
    "name": "ipython",
    "version": 3
   },
   "file_extension": ".py",
   "mimetype": "text/x-python",
   "name": "python",
   "nbconvert_exporter": "python",
   "pygments_lexer": "ipython3",
   "version": "3.11.4"
  }
 },
 "nbformat": 4,
 "nbformat_minor": 2
}
